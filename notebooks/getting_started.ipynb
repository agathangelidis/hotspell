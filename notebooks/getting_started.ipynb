{
 "cells": [
  {
   "cell_type": "markdown",
   "source": [
    "# Getting started\n",
    "\n",
    "## Preprocess daily weather observations\n",
    "\n",
    "First, we need to access some data.\n",
    "\n",
    "We will use a [CSV\n",
    "file](https://data.climpact.gr/dataset/1a1f82e5-94da-4dd0-8b54-04016fc9574e/resource/3efa8645-6dde-42db-b71a-f5f39af3fd53/download/hcd_noa.csv)\n",
    "with daily historical climatic data from the [Thissio\n",
    "station](https://data.climpact.gr/en/dataset/1ce5d2ce-23df-412e-849e-ef2493319da9/resource/3efa8645-6dde-42db-b71a-f5f39af3fd53)\n",
    "(Athens, Greece) of the National Observatory of Athens ([Founda,\n",
    "2011](https://doi.org/10.1080/17512549.2011.582338), [Founda et al.,\n",
    "2013](https://doi.org/10.1002/asl2.419)).\n",
    "The dataset is puclic under [CC-BY-SA 4.0](https://creativecommons.org/licenses/by-sa/4.0/)."
   ],
   "metadata": {}
  },
  {
   "cell_type": "markdown",
   "source": [
    "After downloading our file, we should inspect its data and preprocess it so that\n",
    "it can be used with hotspell."
   ],
   "metadata": {}
  },
  {
   "cell_type": "code",
   "execution_count": 1,
   "source": [
    "import pandas as pd\n",
    "\n",
    "input_file = \"/my_path/hcd_noa.csv\"  # Replace with your path\n",
    "# input_file = \"/home/ilias/Documents/test_hotspell/getting_started/hcd_noa.csv\"\n",
    "\n",
    "df = pd.read_csv(input_file)\n",
    "print(df.head())"
   ],
   "outputs": [
    {
     "output_type": "stream",
     "name": "stdout",
     "text": [
      "   YEAR  MONTH  DAY  Tmax (oC)  Tmin (oC)  RH (%)  Rain (mm)\n",
      "0  1901      1    1       14.3        5.9    67.0        0.2\n",
      "1  1901      1    2       15.0        8.9    80.0        5.8\n",
      "2  1901      1    3       10.3        4.8    76.0        5.0\n",
      "3  1901      1    4        7.1        4.8    78.0        3.2\n",
      "4  1901      1    5       10.4        5.2    83.0        6.6\n"
     ]
    }
   ],
   "metadata": {}
  },
  {
   "cell_type": "markdown",
   "source": [
    "As we can see, the dataset includes 7 columns. The first 3 columns correspond to\n",
    "the year, month and day of the observations, columns 4 and 5 to the daily\n",
    "maximum (Tmax) and daily minimum (Tmin) air temperature (in °C), column 6 to to\n",
    "relative humidity (RH, expressed as percent) and the last column to\n",
    "precipitation (Rain, in mm).\n",
    "\n",
    "We need to drop humidity and rain and rearrange Tmax and Tmin:"
   ],
   "metadata": {}
  },
  {
   "cell_type": "code",
   "execution_count": 2,
   "source": [
    "df = df[[\"YEAR\", \"MONTH\", \"DAY\", \"Tmin (oC)\", \"Tmax (oC)\"]]\n",
    "print(df.head())"
   ],
   "outputs": [
    {
     "output_type": "stream",
     "name": "stdout",
     "text": [
      "   YEAR  MONTH  DAY  Tmin (oC)  Tmax (oC)\n",
      "0  1901      1    1        5.9       14.3\n",
      "1  1901      1    2        8.9       15.0\n",
      "2  1901      1    3        4.8       10.3\n",
      "3  1901      1    4        4.8        7.1\n",
      "4  1901      1    5        5.2       10.4\n"
     ]
    }
   ],
   "metadata": {}
  },
  {
   "cell_type": "markdown",
   "source": [
    "Suppose that the station metadata asserts that nodata values are included in the\n",
    "timeseries and have been set as -9999.\n",
    "\n",
    "We should delete these measurements as:"
   ],
   "metadata": {}
  },
  {
   "cell_type": "code",
   "execution_count": 3,
   "source": [
    "nodata_value = -9999\n",
    "df = df.loc[\n",
    "    (df[\"Tmin (oC)\"] != nodata_value ) & (df[\"Tmax (oC)\"] != nodata_value)]"
   ],
   "outputs": [],
   "metadata": {}
  },
  {
   "cell_type": "markdown",
   "source": [
    "We are ready to output file; during save we **must drop** the header and the\n",
    "index of the DataFrame."
   ],
   "metadata": {}
  },
  {
   "cell_type": "code",
   "execution_count": 4,
   "source": [
    "# output_file = \"/my_path/hcd_noa_processed.csv\"  # Replace with your path\n",
    "output_file = \"/home/ilias/Documents/test_hotspell/getting_started/hcd_noa_processed.csv\"\n",
    "\n",
    "df.to_csv(output_file, header=False, index=False)"
   ],
   "outputs": [],
   "metadata": {}
  },
  {
   "cell_type": "markdown",
   "source": [
    "We have finished the preprocessing of our data we are ready to use hotspell.\n",
    "\n",
    "First we must initialize the heat wave index we want to use.\n",
    "For this example we will use the index CTX90PCT. \n",
    "\n",
    "https://doi.org/10.1175/JCLI-D-12-00383.1\n"
   ],
   "metadata": {}
  },
  {
   "cell_type": "code",
   "execution_count": 5,
   "source": [
    "import hotspell\n",
    "\n",
    "index_name = \"ctx90pct\"\n",
    "hw_index = hotspell.index(name=index_name)"
   ],
   "outputs": [],
   "metadata": {}
  },
  {
   "cell_type": "markdown",
   "source": [
    "This index uses as a threshold the calendar day 90th percentile value of the\n",
    "maximum temperature based on a 15-day window. That is there is a different\n",
    "percentile value for each day of the year where the window is centered on the\n",
    "day in question.  A heat wave occurs when the threshold is exceeded for at least\n",
    "3 consecutive days.\n",
    "\n",
    "The complete list of available heat wave indices can be found here.\n",
    "\n",
    "The attributes of predifined indexes are set automatically"
   ],
   "metadata": {}
  },
  {
   "cell_type": "markdown",
   "source": [
    "Using the index we selected above and the preprocessed data from the Preprocessing section\n",
    "we can find the heat waves event in the period covered by the data."
   ],
   "metadata": {}
  },
  {
   "cell_type": "markdown",
   "source": [
    "We will use the default arguments for the parameters of get_heatwaves.\n",
    "That is we the base period used to calculate the percentile value will have as beggining year 1961 and as ending year 1990.\n",
    "We will find the heatwaves only for the months June, July and August.\n",
    "We will also compute the annual heatwave metrics and we will save our results in csv files."
   ],
   "metadata": {}
  },
  {
   "cell_type": "code",
   "execution_count": 6,
   "source": [
    "# input_file = \"/my_path/hcd_noa_processed.csv\"  # Replace with your path\n",
    "input_file = \"/home/ilias/Documents/test_hotspell/getting_started/hcd_noa_processed.csv\"\n",
    "\n",
    "hw = hotspell.get_heatwaves(filename=input_file, hw_index=hw_index)"
   ],
   "outputs": [],
   "metadata": {}
  },
  {
   "cell_type": "markdown",
   "source": [
    "hw.events is a DataFrame that contain the dates of detected heat wave events, as well as their basic characteristics (duration and temperature statistics)."
   ],
   "metadata": {}
  },
  {
   "cell_type": "code",
   "execution_count": 7,
   "source": [
    "print(hw.events.head())"
   ],
   "outputs": [
    {
     "output_type": "stream",
     "name": "stdout",
     "text": [
      "           begin_date   end_date  duration  avg_tmax  std_tmax  max_tmax\n",
      "index                                                                   \n",
      "1901-08-01 1901-08-01 1901-08-03         3      37.9       0.8      38.8\n",
      "1902-07-22 1902-07-22 1902-07-24         3      38.2       1.8      40.3\n",
      "1903-08-14 1903-08-14 1903-08-16         3      36.0       0.2      36.2\n",
      "1904-08-09 1904-08-09 1904-08-12         4      36.5       0.3      36.8\n",
      "1905-08-26 1905-08-26 1905-08-31         6      36.5       0.9      38.0\n"
     ]
    }
   ],
   "metadata": {}
  },
  {
   "cell_type": "code",
   "execution_count": 8,
   "source": [
    "print(hw.events.describe())"
   ],
   "outputs": [
    {
     "output_type": "stream",
     "name": "stdout",
     "text": [
      "         duration    avg_tmax    std_tmax    max_tmax\n",
      "count  198.000000  198.000000  198.000000  198.000000\n",
      "mean     4.717172   36.745455    1.121212   38.145455\n",
      "std      2.172932    1.538327    0.637774    2.020794\n",
      "min      3.000000   32.500000    0.100000   32.800000\n",
      "25%      3.000000   36.000000    0.700000   36.900000\n",
      "50%      4.000000   36.950000    1.000000   38.000000\n",
      "75%      6.000000   37.600000    1.400000   39.200000\n",
      "max     13.000000   41.000000    3.600000   44.800000\n"
     ]
    }
   ],
   "metadata": {}
  },
  {
   "cell_type": "markdown",
   "source": [
    "hw.metrics is a DataFrame with the annual heatwaves properties.\n",
    "\n",
    "- hwn: number of events\n",
    "- hwf: number of days\n",
    "- hwd: duration of longest event\n",
    "- hwdm: mean duration of events\n",
    "- hwm: mean normalized magnitude\n",
    "- hwma: mean absolute magnitude\n",
    "- hwa: normalized magnitude of hottest day\n",
    "- hwaa: absolute magnitude of hottest day\n",
    "\n",
    "For a more detailed description of heat waves properties see the documentation"
   ],
   "metadata": {}
  },
  {
   "cell_type": "code",
   "execution_count": 9,
   "source": [
    "print(hw.metrics.head())"
   ],
   "outputs": [
    {
     "output_type": "stream",
     "name": "stdout",
     "text": [
      "      hwn  hwf  hwd  hwdm  hwm  hwma  hwa  hwaa\n",
      "year                                           \n",
      "1901    1    3  3.0   3.0  7.2  38.8  7.2  38.8\n",
      "1902    1    3  3.0   3.0  8.7  40.3  8.7  40.3\n",
      "1903    1    3  3.0   3.0  4.6  36.2  4.6  36.2\n",
      "1904    1    4  4.0   4.0  5.2  36.8  5.2  36.8\n",
      "1905    1    6  6.0   6.0  6.4  38.0  6.4  38.0\n"
     ]
    }
   ],
   "metadata": {}
  },
  {
   "cell_type": "code",
   "execution_count": 10,
   "source": [
    "print(hw.metrics.describe())"
   ],
   "outputs": [
    {
     "output_type": "stream",
     "name": "stdout",
     "text": [
      "              hwn         hwf        hwd       hwdm        hwm       hwma  \\\n",
      "count  121.000000  121.000000  85.000000  85.000000  85.000000  85.000000   \n",
      "mean     1.702479    7.933884   5.541176   4.383529   6.401176  38.001176   \n",
      "std      1.710968    9.443459   2.657214   1.264803   1.569007   1.569007   \n",
      "min      0.000000    0.000000   3.000000   3.000000   2.400000  34.000000   \n",
      "25%      0.000000    0.000000   4.000000   3.400000   5.600000  37.200000   \n",
      "50%      1.000000    5.000000   5.000000   4.000000   6.400000  38.000000   \n",
      "75%      2.000000   12.000000   7.000000   5.000000   7.300000  38.900000   \n",
      "max      8.000000   54.000000  13.000000   7.500000  10.300000  41.900000   \n",
      "\n",
      "             hwa       hwaa  \n",
      "count  85.000000  85.000000  \n",
      "mean    7.364706  38.964706  \n",
      "std     2.102703   2.102703  \n",
      "min     2.700000  34.300000  \n",
      "25%     6.200000  37.800000  \n",
      "50%     7.200000  38.800000  \n",
      "75%     8.700000  40.300000  \n",
      "max    11.400000  43.000000  \n"
     ]
    }
   ],
   "metadata": {}
  },
  {
   "cell_type": "markdown",
   "source": [
    "Let's repeat the procedure with a custom more extreme index that aims to capture at least 3 concecutive days above 39 degrees Celcius. See for a detailed descriptioo of which index characteristics can be set"
   ],
   "metadata": {}
  },
  {
   "cell_type": "code",
   "execution_count": 11,
   "source": [
    "hw_extreme_index = hotspell.index(name=\"extreme\", var=\"tmax\", fixed_thres=40, min_duration=4)\n",
    "input_file = \"/home/ilias/Documents/test_hotspell/getting_started/hcd_noa_processed.csv\"\n",
    "hw_extreme = hotspell.get_heatwaves(filename=input_file, hw_index=hw_extreme_index)"
   ],
   "outputs": [],
   "metadata": {}
  },
  {
   "cell_type": "code",
   "execution_count": 12,
   "source": [
    "print(hw_extreme.events)"
   ],
   "outputs": [
    {
     "output_type": "stream",
     "name": "stdout",
     "text": [
      "           begin_date   end_date  duration  avg_tmax  std_tmax  max_tmax\n",
      "index                                                                   \n",
      "1987-07-21 1987-07-21 1987-07-27         7      41.6       0.7      42.8\n",
      "2007-07-22 2007-07-22 2007-07-25         4      41.4       0.5      41.9\n"
     ]
    }
   ],
   "metadata": {}
  }
 ],
 "metadata": {
  "orig_nbformat": 4,
  "language_info": {
   "name": "python",
   "version": "3.9.6",
   "mimetype": "text/x-python",
   "codemirror_mode": {
    "name": "ipython",
    "version": 3
   },
   "pygments_lexer": "ipython3",
   "nbconvert_exporter": "python",
   "file_extension": ".py"
  },
  "kernelspec": {
   "name": "python3",
   "display_name": "Python 3.9.6 64-bit ('hotspell_env': conda)"
  },
  "interpreter": {
   "hash": "ca4c86c56289943e9fcaf3c83d393f4507d68511bee36bc64ba787708615e7d1"
  }
 },
 "nbformat": 4,
 "nbformat_minor": 2
}